{
 "cells": [
  {
   "cell_type": "code",
   "execution_count": 31,
   "id": "representative-factory",
   "metadata": {
    "scrolled": true
   },
   "outputs": [
    {
     "name": "stdout",
     "output_type": "stream",
     "text": [
      "Les vecteurs de bases du réseau direct sont: a = 7.750107652638188 Å, b = 7.750107652638188 Å, c = 7.750106901565745 Å\n",
      "\n",
      "\n",
      "Les vecteurs de bases du réseau réciproque sont: a* = 1.855206670587501 Å^(-1), b* = 1.855206670587501 Å^(-1), c* = 1.8552069772325563 Å^(-1)\n",
      "\n",
      "\n",
      "Le type de maille du Sr2BrN est  rhombohedral\n",
      "\n",
      "\n",
      "Son système cristallin est  trigonal\n",
      "\n",
      "\n",
      "Son groupe ponctuel est  -3m\n"
     ]
    }
   ],
   "source": [
    "from pymatgen import Lattice, Structure, Molecule\n",
    "from pymatgen.ext.matproj import MPRester\n",
    "from pymatgen.symmetry.analyzer import SpacegroupAnalyzer\n",
    "import numpy as np\n",
    "\n",
    "with MPRester(\"d4klromGgnasAIpD\") as m:\n",
    "\n",
    "    # Structure for material id\n",
    "    structure = m.get_structure_by_material_id(\"mp-23056\")\n",
    "    \n",
    "    print('Les vecteurs de bases du réseau direct sont: a = {} Å, b = {} Å, c = {} Å'.format(structure.lattice.a,structure.lattice.b,structure.lattice.c))\n",
    "    print('\\n')\n",
    "    print('Les vecteurs de bases du réseau réciproque sont: a* = {} Å^(-1), b* = {} Å^(-1), c* = {} Å^(-1)'.format(structure.lattice.reciprocal_lattice.a,structure.lattice.reciprocal_lattice.b,structure.lattice.reciprocal_lattice.c))\n",
    "    print('\\n')\n",
    "    Analyzer= SpacegroupAnalyzer(structure)\n",
    "    print('Le type de maille du Sr2BrN est ',Analyzer.get_lattice_type())\n",
    "    print('\\n')\n",
    "    print('Son système cristallin est ', Analyzer.get_crystal_system())\n",
    "    print('\\n')\n",
    "    print('Son groupe ponctuel est ', Analyzer.get_point_group_symbol())"
   ]
  },
  {
   "cell_type": "code",
   "execution_count": null,
   "id": "amazing-hygiene",
   "metadata": {},
   "outputs": [],
   "source": []
  },
  {
   "cell_type": "code",
   "execution_count": null,
   "id": "continued-significance",
   "metadata": {},
   "outputs": [],
   "source": []
  }
 ],
 "metadata": {
  "kernelspec": {
   "display_name": "Python 3",
   "language": "python",
   "name": "python3"
  },
  "language_info": {
   "codemirror_mode": {
    "name": "ipython",
    "version": 3
   },
   "file_extension": ".py",
   "mimetype": "text/x-python",
   "name": "python",
   "nbconvert_exporter": "python",
   "pygments_lexer": "ipython3",
   "version": "3.6.8"
  }
 },
 "nbformat": 4,
 "nbformat_minor": 5
}
