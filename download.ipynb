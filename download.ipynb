{
 "cells": [
  {
   "cell_type": "code",
   "execution_count": 5,
   "id": "rough-andrews",
   "metadata": {},
   "outputs": [],
   "source": [
    "from pymatgen import Lattice, Structure, Molecule\n",
    "from pymatgen.ext.matproj import MPRester\n",
    "\n",
    "with MPRester(\"d4klromGgnasAIpD\") as m:\n",
    "\n",
    "    # Structure for material id\n",
    "    structure = m.get_structure_by_material_id(\"mp-23056\")\n",
    "\n",
    "    # Dos for material id\n",
    "    dos = m.get_dos_by_material_id(\"mp-23056\")\n",
    "\n",
    "    # Bandstructure for material id\n",
    "    bandstructure = m.get_bandstructure_by_material_id(\"mp-23056\")"
   ]
  },
  {
   "cell_type": "code",
   "execution_count": 6,
   "id": "outdoor-reaction",
   "metadata": {},
   "outputs": [
    {
     "name": "stdout",
     "output_type": "stream",
     "text": [
      "Full Formula (Sr2 Br1 N1)\n",
      "Reduced Formula: Sr2BrN\n",
      "abc   :   7.750108   7.750108   7.750107\n",
      "angles:  29.580910  29.580910  29.580913\n",
      "Sites (4)\n",
      "  #  SP           a         b         c    magmom\n",
      "---  ----  --------  --------  --------  --------\n",
      "  0  Sr    0.772976  0.772976  0.772976         0\n",
      "  1  Sr    0.227024  0.227024  0.227024         0\n",
      "  2  Br    0         0         0                0\n",
      "  3  N     0.5       0.5       0.5             -0\n"
     ]
    }
   ],
   "source": [
    "print(structure)"
   ]
  },
  {
   "cell_type": "code",
   "execution_count": 7,
   "id": "integrated-screening",
   "metadata": {},
   "outputs": [
    {
     "name": "stdout",
     "output_type": "stream",
     "text": [
      "Complete DOS for Full Formula (Sr2 Br1 N1)\n",
      "Reduced Formula: Sr2BrN\n",
      "abc   :   7.750108   7.750108   7.750107\n",
      "angles:  29.580910  29.580910  29.580913\n",
      "Sites (4)\n",
      "  #  SP           a         b         c\n",
      "---  ----  --------  --------  --------\n",
      "  0  Sr    0.772976  0.772976  0.772976\n",
      "  1  Sr    0.227024  0.227024  0.227024\n",
      "  2  Br    0         0         0\n",
      "  3  N     0.5       0.5       0.5\n"
     ]
    }
   ],
   "source": [
    "print(dos)"
   ]
  },
  {
   "cell_type": "code",
   "execution_count": 8,
   "id": "frequent-bargain",
   "metadata": {},
   "outputs": [
    {
     "name": "stdout",
     "output_type": "stream",
     "text": [
      "<pymatgen.electronic_structure.bandstructure.BandStructureSymmLine object at 0x7f52b223a160>\n"
     ]
    }
   ],
   "source": [
    "print(bandstructure)"
   ]
  }
 ],
 "metadata": {
  "kernelspec": {
   "display_name": "Python 3",
   "language": "python",
   "name": "python3"
  },
  "language_info": {
   "codemirror_mode": {
    "name": "ipython",
    "version": 3
   },
   "file_extension": ".py",
   "mimetype": "text/x-python",
   "name": "python",
   "nbconvert_exporter": "python",
   "pygments_lexer": "ipython3",
   "version": "3.6.8"
  }
 },
 "nbformat": 4,
 "nbformat_minor": 5
}
