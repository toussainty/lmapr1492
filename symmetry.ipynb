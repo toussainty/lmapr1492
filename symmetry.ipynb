{
 "cells": [
  {
   "cell_type": "code",
   "execution_count": 129,
   "id": "ordinary-audio",
   "metadata": {},
   "outputs": [],
   "source": [
    "from pymatgen import Lattice, Structure, Molecule\n",
    "from pymatgen.ext.matproj import MPRester\n",
    "from pymatgen.symmetry.analyzer import SpacegroupAnalyzer\n",
    "from jupyter_jsmol.pymatgen import quick_view\n",
    "\n",
    "with MPRester(\"d4klromGgnasAIpD\") as m:\n",
    "\n",
    "    # Structure for material id\n",
    "    structure = m.get_structure_by_material_id(\"mp-23056\")\n"
   ]
  },
  {
   "cell_type": "markdown",
   "id": "posted-sweden",
   "metadata": {},
   "source": [
    "Le matériau pour lequel on analyse certains éléments de symétrie est le $Sr_2BrN$. \n",
    "Le premier élément de symétrie étudié est l'inversion $\\bar{1}$ sur l'atome d'azote N.\n",
    "Par cette symétrie, le vecteur de base décrivant la position de l'atome N dans la maille se transforme en un nouveau vecteur selon l'équation:\n",
    "\\begin{gather*}\n",
    "\\begin{pmatrix}\n",
    "    -1 & 0 & 0 \\\\ \n",
    "    0 & -1 & 0 \\\\ \n",
    "    0 & 0 & -1 \n",
    "\\end{pmatrix} \\quad\n",
    "\\begin{pmatrix}\n",
    "    x \\\\\n",
    "    y \\\\\n",
    "    z\n",
    "\\end{pmatrix} = \\quad\n",
    "\\begin{pmatrix}\n",
    "    -x \\\\\n",
    "    -y \\\\\n",
    "    -z\n",
    "\\end{pmatrix}\n",
    "\\end{gather*}\n",
    "Dans la maille conventionnelle, on peut appliquer l'opération d'inversion sur l'atome N 17 comme illustrer ci-dessous. L'atome N 20 est l'équivalent dans la maille conventionnelle de l'atome N 17 auquel on applique l'opération d'inversion."
   ]
  },
  {
   "cell_type": "code",
   "execution_count": 134,
   "id": "leading-brooklyn",
   "metadata": {},
   "outputs": [
    {
     "data": {
      "application/vnd.jupyter.widget-view+json": {
       "model_id": "b589c86fbbe24cc1ba89c2a9cf06ffb9",
       "version_major": 2,
       "version_minor": 0
      },
      "text/plain": [
       "JsmolView(layout=Layout(align_self='stretch', height='400px'))"
      ]
     },
     "metadata": {},
     "output_type": "display_data"
    }
   ],
   "source": [
    "view = quick_view(structure, conventional=True)\n",
    "display(view)\n",
    "view.script(\"draw symop 2(atomno=17)\")"
   ]
  },
  {
   "cell_type": "markdown",
   "id": "persistent-level",
   "metadata": {},
   "source": [
    "Le second élément de symétrie étudié est une translation de vecteur (2/3,1/3,1/3), selon les directions des vecteurs a, b et c respectivement, d'un atome de brome Br.\n",
    "Par cette symétrie, le vecteur de base décrivant la position de l'atome dans la maille se transforme en un nouveau vecteur selon l'équation:\n",
    "\\begin{gather*} \n",
    "\\begin{pmatrix}\n",
    "    \\frac{2}{3}\\\\\n",
    "    \\frac{1}{3}\\\\\n",
    "    \\frac{1}{3}\n",
    "\\end{pmatrix} + \\quad\n",
    "\\begin{pmatrix}\n",
    "    x \\\\\n",
    "    y \\\\\n",
    "    z\n",
    "\\end{pmatrix} = \\quad\n",
    "\\begin{pmatrix}\n",
    "    x+\\frac{2}{3} \\\\\n",
    "    y +\\frac{1}{3} \\\\\n",
    "    z  +\\frac{1}{3} \\\\\n",
    "\\end{pmatrix}\n",
    "\\end{gather*}\n",
    "Dans la maille conventionnelle, on peut appliquer la translation sur l'atome Br 10 comme illustrer ci-dessous. L'atome Br 16 est l'équivalent dans la maille conventionnelle de l'atome Br 10 auquel on applique la translation."
   ]
  },
  {
   "cell_type": "code",
   "execution_count": 133,
   "id": "experimental-netherlands",
   "metadata": {},
   "outputs": [
    {
     "data": {
      "application/vnd.jupyter.widget-view+json": {
       "model_id": "337db7a8d71840daa0c5da0bb9f1f149",
       "version_major": 2,
       "version_minor": 0
      },
      "text/plain": [
       "JsmolView(layout=Layout(align_self='stretch', height='400px'))"
      ]
     },
     "metadata": {},
     "output_type": "display_data"
    }
   ],
   "source": [
    "view2 = quick_view(structure, conventional=True)\n",
    "display(view2)\n",
    "view2.script(\"draw symop 13(atomno=10)\")"
   ]
  },
  {
   "cell_type": "markdown",
   "id": "reverse-giving",
   "metadata": {},
   "source": [
    "Le troisième élément de symétrie étudié est une roto-inversion d'ordre 6, $\\bar{6}$, selon l'axe c sur l'atome de strontium Sr.\n",
    "Par cette symétrie, le vecteur de base décrivant la position de l'atome dans la maille se transforme en un nouveau vecteur selon l'équation:\n",
    "\\begin{gather*}\n",
    "\\begin{pmatrix}\n",
    "    1 & -1 & 0 \\\\ \n",
    "    -1 & 0 & 0 \\\\ \n",
    "    0 & 0 & -1\n",
    "\\end{pmatrix} \\quad\n",
    "\\begin{pmatrix}\n",
    "    x \\\\\n",
    "    y \\\\\n",
    "    z\n",
    "\\end{pmatrix} = \\quad\n",
    "\\begin{pmatrix}\n",
    "    x-y \\\\\n",
    "    x \\\\\n",
    "    -z\n",
    "\\end{pmatrix}\n",
    "\\end{gather*}\n",
    "Dans la maille conventionnelle, on peut appliquer l'opération de roto-inversion d'ordre 6 sur l'atome Sr 1 comme illustrer ci-dessous. L'atome Sr 9 est l'équivalent dans la maille conventionnelle de l'atome Sr 1 auquel on applique la translation."
   ]
  },
  {
   "cell_type": "code",
   "execution_count": 135,
   "id": "organizational-dealer",
   "metadata": {},
   "outputs": [
    {
     "data": {
      "application/vnd.jupyter.widget-view+json": {
       "model_id": "591d0bb3fb2741e7ae66945661de7612",
       "version_major": 2,
       "version_minor": 0
      },
      "text/plain": [
       "JsmolView(layout=Layout(align_self='stretch', height='400px'))"
      ]
     },
     "metadata": {},
     "output_type": "display_data"
    }
   ],
   "source": [
    "view3 = quick_view(structure, conventional=True)\n",
    "display(view3)\n",
    "view3.script(\"draw symop 6(atomno=1)\")"
   ]
  }
 ],
 "metadata": {
  "kernelspec": {
   "display_name": "Python 3",
   "language": "python",
   "name": "python3"
  },
  "language_info": {
   "codemirror_mode": {
    "name": "ipython",
    "version": 3
   },
   "file_extension": ".py",
   "mimetype": "text/x-python",
   "name": "python",
   "nbconvert_exporter": "python",
   "pygments_lexer": "ipython3",
   "version": "3.6.8"
  }
 },
 "nbformat": 4,
 "nbformat_minor": 5
}
